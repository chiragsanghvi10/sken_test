{
 "cells": [
  {
   "cell_type": "code",
   "execution_count": 2,
   "metadata": {},
   "outputs": [],
   "source": [
    "from flask import Flask, request\n",
    "app = Flask(__name__)\n",
    "import pandas as pd\n",
    "from rasa.nlu.training_data import load_data\n",
    "from rasa.nlu.model import Trainer\n",
    "from rasa.nlu import config\n",
    "from rasa.nlu.model import Interpreter\n",
    "import tensorflow.keras as keras\n",
    "from flask import jsonify\n",
    "from flask import Response\n",
    "import os"
   ]
  },
  {
   "cell_type": "code",
   "execution_count": null,
   "metadata": {},
   "outputs": [],
   "source": [
    "print(os.getcwd())"
   ]
  },
  {
   "cell_type": "code",
   "execution_count": null,
   "metadata": {},
   "outputs": [],
   "source": [
    "# input_excel_file with column names [speaker & text]\n",
    "#Speaker containing Agent & Customer\n",
    "\n",
    "@app.route(\"/agent_customer_seq\",methods=[\"POST\",\"GET\"])\n",
    "\n",
    "def agent_customer(input_excel_file, output_dir): \n",
    "    df = pd.read_excel(input_excel_file)\n",
    "    df.text= df.text.astype(str)\n",
    "    df['a_bin'] = 0\n",
    "    df['b_bin'] = 0\n",
    "    df.a_bin = df.speaker.apply(lambda x: 0 if x=='Agent' else 1)\n",
    "    df.b_bin = df.speaker.apply(lambda x: 0 if x=='Customer' else 1)\n",
    "    df['a_bin_cumsum'] = df.a_bin.cumsum()\n",
    "    df['b_bin_cumsum'] = df.b_bin.cumsum()\n",
    "    df = df.drop(['a_bin','b_bin'],axis=1)\n",
    "    df['a_bin'] = df.speaker.apply(lambda x: 1 if x=='Agent' else 0)\n",
    "    df['b_bin'] = df.speaker.apply(lambda x: 1 if x=='Customer' else 0)\n",
    "    df['a_con'] = df.a_bin_cumsum*df.a_bin \n",
    "    df['b_con'] = df.b_bin_cumsum*df.b_bin \n",
    "    df.drop(['a_bin_cumsum','b_bin_cumsum','a_bin','b_bin'],axis=1,inplace=True)\n",
    "    df['identifier'] = df.a_con + df.b_con\n",
    "    df['name_idnet'] = df.speaker+\"_\"+df.identifier.astype(str)\n",
    "    df.drop(['a_con','b_con'],axis=1,inplace=True)\n",
    "    df1 = df[['name_idnet','text']].groupby(['name_idnet'],as_index=False).sum()\n",
    "    df2 = df.drop_duplicates(\"name_idnet\")[['speaker', 'name_idnet']]\n",
    "    df2 = df2.merge(df1, on='name_idnet')\n",
    "    df2 = df2.drop([\"name_idnet\"], axis=1)\n",
    "    \n",
    "    return df2"
   ]
  },
  {
   "cell_type": "code",
   "execution_count": null,
   "metadata": {},
   "outputs": [],
   "source": [
    "@app.route(\"/rasa_train_model\",methods=[\"POST\",\"GET\"])\n",
    "#This trains the RASA NLU model.\n",
    "\n",
    "def train_rasa_model():\n",
    "    nlu_training = \"./rasa_byjus_test/data/nlu_byjus.md\"\n",
    "    training_data = load_data(nlu_training)\n",
    "    trainer = Trainer(config.load(\"./rasa_byjus_test/config.yml\"))\n",
    "    interpreter = trainer.train(training_data)\n",
    "    rasa_trained_model_directory = trainer.persist(\"./rasa_byjus_test/models\", fixed_model_name=\"byjus_test_model\")\n",
    "    return rasa_trained_model_directory"
   ]
  },
  {
   "cell_type": "code",
   "execution_count": null,
   "metadata": {},
   "outputs": [],
   "source": [
    "@app.route(\"/rasa_model_output\",methods=[\"POST\",\"GET\"])\n",
    "# RASA predicted intents and converted to excel file.\n",
    "#The output file directory is in current working directory.\n",
    "def rasa_model_output(agent_customer_excel_file, confidence, rasa_trained_model_directory):\n",
    "    interpreter = Interpreter.load(rasa_trained_model_directory)    \n",
    "    predicted=[]\n",
    "    result =  []\n",
    "    no_intent_text = []\n",
    "    no_intent_speaker = []\n",
    "    i = 0\n",
    "    for i in range(len(agent_customer_excel_file)):\n",
    "        if confidence == None:\n",
    "            confidence = 0.9\n",
    "        a = interpreter.parse(agent_customer_excel_file.text[i])\n",
    "        if a[\"intent_ranking\"][0][\"confidence\"] > confidence:\n",
    "            predicted.append(a[\"intent_ranking\"][0][\"name\"])\n",
    "        else:\n",
    "            predicted.append(\"NO TAG\")\n",
    "            no_intent_text.append(agent_customer_excel_file.text[i])\n",
    "            no_intent_speaker.append(agent_customer_excel_file.speaker[i])            \n",
    "        no_intent = list(zip(no_intent_speaker, no_intent_text))\n",
    "        no_intent = pd.DataFrame(no_intent, columns=[\"speaker\", \"text\"])\n",
    "        no_intent.to_excel(\"no_intent_classified.xlsx\", index=None)\n",
    "        result.append({\"speaker\": agent_customer_excel_file.speaker[i], \"text\":agent_customer_excel_file.text[i], \"rasa_predicted\":predicted[i]})\n",
    "\n",
    "    agent_customer_excel_file[\"predicted\"] = predicted\n",
    "    rasa_output_file = agent_customer_excel_file.to_excel(\"rasa_predicted_output.xlsx\", index=None)\n",
    "\n",
    "    return jsonify(result)"
   ]
  },
  {
   "cell_type": "code",
   "execution_count": null,
   "metadata": {
    "scrolled": true
   },
   "outputs": [],
   "source": [
    "@app.route(\"/byjus_introduction\",methods=[\"POST\",\"GET\"])\n",
    "\n",
    "def main_byjus():\n",
    "    input_excel_file = \"byjus_intro.xlsx\"\n",
    "    output_dir = os.getcwd() + \"/agent_customer_seq_output.xlsx\"\n",
    "\n",
    "    df2 = agent_customer(input_excel_file, output_dir)\n",
    "    confidence = request.args.get(\"confidence\")\n",
    "    print(\"CONFIDENCE ########################\", confidence)\n",
    "    rasa_trained_model_directory = \"/home/chirag/Desktop/byjus_test_intro/rasa_byjus_test/models/byjus_test_model\"\n",
    "    rasa_output_file = rasa_model_output(df2, confidence, rasa_trained_model_directory)\n",
    "    print(\"Check the excel file name : 'rasa_predicted_output.xlsx' \\n in directory {}:\".format(os.getcwd()))\n",
    "    \n",
    "    return rasa_output_file"
   ]
  },
  {
   "cell_type": "code",
   "execution_count": null,
   "metadata": {},
   "outputs": [],
   "source": [
    "if __name__ == '__main__':\n",
    "    app.run(host='0.0.0.0', port=8080, debug=True)"
   ]
  },
  {
   "cell_type": "code",
   "execution_count": null,
   "metadata": {},
   "outputs": [],
   "source": []
  }
 ],
 "metadata": {
  "kernelspec": {
   "display_name": "venv",
   "language": "python",
   "name": "venv"
  },
  "language_info": {
   "codemirror_mode": {
    "name": "ipython",
    "version": 3
   },
   "file_extension": ".py",
   "mimetype": "text/x-python",
   "name": "python",
   "nbconvert_exporter": "python",
   "pygments_lexer": "ipython3",
   "version": "3.6.8"
  }
 },
 "nbformat": 4,
 "nbformat_minor": 2
}
